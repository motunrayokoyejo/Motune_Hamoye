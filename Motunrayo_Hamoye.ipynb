{
  "nbformat": 4,
  "nbformat_minor": 0,
  "metadata": {
    "colab": {
      "name": "Motunrayo_Hamoye.ipynb",
      "provenance": []
    },
    "kernelspec": {
      "name": "python3",
      "display_name": "Python 3"
    }
  },
  "cells": [
    {
      "cell_type": "code",
      "metadata": {
        "id": "_zKiJVq7YS19",
        "colab_type": "code",
        "colab": {}
      },
      "source": [
        "import numpy as np\n",
        "import pandas as pd\n"
      ],
      "execution_count": 2,
      "outputs": []
    },
    {
      "cell_type": "code",
      "metadata": {
        "id": "n9hKtncYY_lB",
        "colab_type": "code",
        "colab": {
          "base_uri": "https://localhost:8080/",
          "height": 34
        },
        "outputId": "649513ba-df5f-4da4-cc81-06e1cba0f7c1"
      },
      "source": [
        "A = [1,2,3,4,5,6]\n",
        "B = [13,21,24]\n",
        "\n",
        "A.extend(B)\n",
        "print(A)"
      ],
      "execution_count": 3,
      "outputs": [
        {
          "output_type": "stream",
          "text": [
            "[1, 2, 3, 4, 5, 6, 13, 21, 24]\n"
          ],
          "name": "stdout"
        }
      ]
    },
    {
      "cell_type": "code",
      "metadata": {
        "id": "BPtZVGtLZM73",
        "colab_type": "code",
        "colab": {
          "base_uri": "https://localhost:8080/",
          "height": 68
        },
        "outputId": "5fd559c0-7a62-4635-8a27-0103a71f5fa0"
      },
      "source": [
        "#id = np.array[(1,0,0),(0,1,0),(0,0,1)]\n",
        "id1 = np.array([[1,0,0],[0,1,0], [0,0,1]])\n",
        "#id2 = eye(3)\n",
        "print (id1)"
      ],
      "execution_count": 4,
      "outputs": [
        {
          "output_type": "stream",
          "text": [
            "[[1 0 0]\n",
            " [0 1 0]\n",
            " [0 0 1]]\n"
          ],
          "name": "stdout"
        }
      ]
    },
    {
      "cell_type": "code",
      "metadata": {
        "id": "yfqMH8e3eJkF",
        "colab_type": "code",
        "colab": {
          "base_uri": "https://localhost:8080/",
          "height": 551
        },
        "outputId": "f1343cd2-1298-4355-e363-7f8cfdf9a8d7"
      },
      "source": [
        "fuel_data = pd.read_csv('https://raw.githubusercontent.com/WalePhenomenon/climate_change/master/fuel_ferc1.csv')\n",
        "fuel_data.head(15)"
      ],
      "execution_count": 5,
      "outputs": [
        {
          "output_type": "execute_result",
          "data": {
            "text/html": [
              "<div>\n",
              "<style scoped>\n",
              "    .dataframe tbody tr th:only-of-type {\n",
              "        vertical-align: middle;\n",
              "    }\n",
              "\n",
              "    .dataframe tbody tr th {\n",
              "        vertical-align: top;\n",
              "    }\n",
              "\n",
              "    .dataframe thead th {\n",
              "        text-align: right;\n",
              "    }\n",
              "</style>\n",
              "<table border=\"1\" class=\"dataframe\">\n",
              "  <thead>\n",
              "    <tr style=\"text-align: right;\">\n",
              "      <th></th>\n",
              "      <th>record_id</th>\n",
              "      <th>utility_id_ferc1</th>\n",
              "      <th>report_year</th>\n",
              "      <th>plant_name_ferc1</th>\n",
              "      <th>fuel_type_code_pudl</th>\n",
              "      <th>fuel_unit</th>\n",
              "      <th>fuel_qty_burned</th>\n",
              "      <th>fuel_mmbtu_per_unit</th>\n",
              "      <th>fuel_cost_per_unit_burned</th>\n",
              "      <th>fuel_cost_per_unit_delivered</th>\n",
              "      <th>fuel_cost_per_mmbtu</th>\n",
              "    </tr>\n",
              "  </thead>\n",
              "  <tbody>\n",
              "    <tr>\n",
              "      <th>0</th>\n",
              "      <td>f1_fuel_1994_12_1_0_7</td>\n",
              "      <td>1</td>\n",
              "      <td>1994</td>\n",
              "      <td>rockport</td>\n",
              "      <td>coal</td>\n",
              "      <td>ton</td>\n",
              "      <td>5377489.0</td>\n",
              "      <td>16.590000</td>\n",
              "      <td>18.590</td>\n",
              "      <td>18.530</td>\n",
              "      <td>1.121</td>\n",
              "    </tr>\n",
              "    <tr>\n",
              "      <th>1</th>\n",
              "      <td>f1_fuel_1994_12_1_0_10</td>\n",
              "      <td>1</td>\n",
              "      <td>1994</td>\n",
              "      <td>rockport total plant</td>\n",
              "      <td>coal</td>\n",
              "      <td>ton</td>\n",
              "      <td>10486945.0</td>\n",
              "      <td>16.592000</td>\n",
              "      <td>18.580</td>\n",
              "      <td>18.530</td>\n",
              "      <td>1.120</td>\n",
              "    </tr>\n",
              "    <tr>\n",
              "      <th>2</th>\n",
              "      <td>f1_fuel_1994_12_2_0_1</td>\n",
              "      <td>2</td>\n",
              "      <td>1994</td>\n",
              "      <td>gorgas</td>\n",
              "      <td>coal</td>\n",
              "      <td>ton</td>\n",
              "      <td>2978683.0</td>\n",
              "      <td>24.130000</td>\n",
              "      <td>39.720</td>\n",
              "      <td>38.120</td>\n",
              "      <td>1.650</td>\n",
              "    </tr>\n",
              "    <tr>\n",
              "      <th>3</th>\n",
              "      <td>f1_fuel_1994_12_2_0_7</td>\n",
              "      <td>2</td>\n",
              "      <td>1994</td>\n",
              "      <td>barry</td>\n",
              "      <td>coal</td>\n",
              "      <td>ton</td>\n",
              "      <td>3739484.0</td>\n",
              "      <td>23.950000</td>\n",
              "      <td>47.210</td>\n",
              "      <td>45.990</td>\n",
              "      <td>1.970</td>\n",
              "    </tr>\n",
              "    <tr>\n",
              "      <th>4</th>\n",
              "      <td>f1_fuel_1994_12_2_0_10</td>\n",
              "      <td>2</td>\n",
              "      <td>1994</td>\n",
              "      <td>chickasaw</td>\n",
              "      <td>gas</td>\n",
              "      <td>mcf</td>\n",
              "      <td>40533.0</td>\n",
              "      <td>1.000000</td>\n",
              "      <td>2.770</td>\n",
              "      <td>2.770</td>\n",
              "      <td>2.570</td>\n",
              "    </tr>\n",
              "    <tr>\n",
              "      <th>5</th>\n",
              "      <td>f1_fuel_1994_12_2_0_13</td>\n",
              "      <td>2</td>\n",
              "      <td>1994</td>\n",
              "      <td>e. c. gaston-unit 5</td>\n",
              "      <td>coal</td>\n",
              "      <td>ton</td>\n",
              "      <td>2124933.0</td>\n",
              "      <td>23.922000</td>\n",
              "      <td>44.240</td>\n",
              "      <td>43.250</td>\n",
              "      <td>1.850</td>\n",
              "    </tr>\n",
              "    <tr>\n",
              "      <th>6</th>\n",
              "      <td>f1_fuel_1994_12_2_1_1</td>\n",
              "      <td>2</td>\n",
              "      <td>1994</td>\n",
              "      <td>joseph m. farley</td>\n",
              "      <td>nuclear</td>\n",
              "      <td>kgU</td>\n",
              "      <td>2260.0</td>\n",
              "      <td>0.064094</td>\n",
              "      <td>28.770</td>\n",
              "      <td>0.000</td>\n",
              "      <td>0.450</td>\n",
              "    </tr>\n",
              "    <tr>\n",
              "      <th>7</th>\n",
              "      <td>f1_fuel_1994_12_2_1_10</td>\n",
              "      <td>2</td>\n",
              "      <td>1994</td>\n",
              "      <td>resondent's portion</td>\n",
              "      <td>coal</td>\n",
              "      <td>ton</td>\n",
              "      <td>5372133.0</td>\n",
              "      <td>24.840000</td>\n",
              "      <td>58.540</td>\n",
              "      <td>55.130</td>\n",
              "      <td>2.360</td>\n",
              "    </tr>\n",
              "    <tr>\n",
              "      <th>8</th>\n",
              "      <td>f1_fuel_1994_12_2_2_10</td>\n",
              "      <td>2</td>\n",
              "      <td>1994</td>\n",
              "      <td>respondent's portion</td>\n",
              "      <td>coal</td>\n",
              "      <td>ton</td>\n",
              "      <td>817520.0</td>\n",
              "      <td>24.290000</td>\n",
              "      <td>33.970</td>\n",
              "      <td>34.650</td>\n",
              "      <td>1.400</td>\n",
              "    </tr>\n",
              "    <tr>\n",
              "      <th>9</th>\n",
              "      <td>f1_fuel_1994_12_4_0_1</td>\n",
              "      <td>4</td>\n",
              "      <td>1994</td>\n",
              "      <td>units 1-3</td>\n",
              "      <td>coal</td>\n",
              "      <td>ton</td>\n",
              "      <td>1471233.0</td>\n",
              "      <td>22.484000</td>\n",
              "      <td>28.730</td>\n",
              "      <td>28.110</td>\n",
              "      <td>1.278</td>\n",
              "    </tr>\n",
              "    <tr>\n",
              "      <th>10</th>\n",
              "      <td>f1_fuel_1994_12_4_0_2</td>\n",
              "      <td>4</td>\n",
              "      <td>1994</td>\n",
              "      <td>units 1-3</td>\n",
              "      <td>gas</td>\n",
              "      <td>mcf</td>\n",
              "      <td>262720.0</td>\n",
              "      <td>1.026000</td>\n",
              "      <td>1.940</td>\n",
              "      <td>1.940</td>\n",
              "      <td>13.900</td>\n",
              "    </tr>\n",
              "    <tr>\n",
              "      <th>11</th>\n",
              "      <td>f1_fuel_1994_12_4_0_4</td>\n",
              "      <td>4</td>\n",
              "      <td>1994</td>\n",
              "      <td>unit 4</td>\n",
              "      <td>coal</td>\n",
              "      <td>ton</td>\n",
              "      <td>476779.0</td>\n",
              "      <td>22.428000</td>\n",
              "      <td>28.710</td>\n",
              "      <td>28.110</td>\n",
              "      <td>1.280</td>\n",
              "    </tr>\n",
              "    <tr>\n",
              "      <th>12</th>\n",
              "      <td>f1_fuel_1994_12_4_0_5</td>\n",
              "      <td>4</td>\n",
              "      <td>1994</td>\n",
              "      <td>unit 4</td>\n",
              "      <td>gas</td>\n",
              "      <td>mcf</td>\n",
              "      <td>6673.0</td>\n",
              "      <td>1.026000</td>\n",
              "      <td>1.940</td>\n",
              "      <td>1.940</td>\n",
              "      <td>1.900</td>\n",
              "    </tr>\n",
              "    <tr>\n",
              "      <th>13</th>\n",
              "      <td>f1_fuel_1994_12_6_0_1</td>\n",
              "      <td>6</td>\n",
              "      <td>1994</td>\n",
              "      <td>clinch river</td>\n",
              "      <td>coal</td>\n",
              "      <td>ton</td>\n",
              "      <td>1655558.0</td>\n",
              "      <td>25.038000</td>\n",
              "      <td>30.248</td>\n",
              "      <td>29.019</td>\n",
              "      <td>1.208</td>\n",
              "    </tr>\n",
              "    <tr>\n",
              "      <th>14</th>\n",
              "      <td>f1_fuel_1994_12_6_0_2</td>\n",
              "      <td>6</td>\n",
              "      <td>1994</td>\n",
              "      <td>clinch river</td>\n",
              "      <td>oil</td>\n",
              "      <td>bbl</td>\n",
              "      <td>6510.0</td>\n",
              "      <td>5.875338</td>\n",
              "      <td>32.130</td>\n",
              "      <td>23.444</td>\n",
              "      <td>5.469</td>\n",
              "    </tr>\n",
              "  </tbody>\n",
              "</table>\n",
              "</div>"
            ],
            "text/plain": [
              "                 record_id  ...  fuel_cost_per_mmbtu\n",
              "0    f1_fuel_1994_12_1_0_7  ...                1.121\n",
              "1   f1_fuel_1994_12_1_0_10  ...                1.120\n",
              "2    f1_fuel_1994_12_2_0_1  ...                1.650\n",
              "3    f1_fuel_1994_12_2_0_7  ...                1.970\n",
              "4   f1_fuel_1994_12_2_0_10  ...                2.570\n",
              "5   f1_fuel_1994_12_2_0_13  ...                1.850\n",
              "6    f1_fuel_1994_12_2_1_1  ...                0.450\n",
              "7   f1_fuel_1994_12_2_1_10  ...                2.360\n",
              "8   f1_fuel_1994_12_2_2_10  ...                1.400\n",
              "9    f1_fuel_1994_12_4_0_1  ...                1.278\n",
              "10   f1_fuel_1994_12_4_0_2  ...               13.900\n",
              "11   f1_fuel_1994_12_4_0_4  ...                1.280\n",
              "12   f1_fuel_1994_12_4_0_5  ...                1.900\n",
              "13   f1_fuel_1994_12_6_0_1  ...                1.208\n",
              "14   f1_fuel_1994_12_6_0_2  ...                5.469\n",
              "\n",
              "[15 rows x 11 columns]"
            ]
          },
          "metadata": {
            "tags": []
          },
          "execution_count": 5
        }
      ]
    },
    {
      "cell_type": "code",
      "metadata": {
        "id": "9VZW1Wl3kGzy",
        "colab_type": "code",
        "colab": {
          "base_uri": "https://localhost:8080/",
          "height": 34
        },
        "outputId": "2ecc5887-953f-4021-ce2e-68125ae38074"
      },
      "source": [
        "fuel_data['fuel_type_code_pudl'].unique()"
      ],
      "execution_count": 6,
      "outputs": [
        {
          "output_type": "execute_result",
          "data": {
            "text/plain": [
              "array(['coal', 'gas', 'nuclear', 'oil', 'waste', 'other'], dtype=object)"
            ]
          },
          "metadata": {
            "tags": []
          },
          "execution_count": 6
        }
      ]
    },
    {
      "cell_type": "code",
      "metadata": {
        "id": "FjkDlj_XlwEd",
        "colab_type": "code",
        "colab": {
          "base_uri": "https://localhost:8080/",
          "height": 221
        },
        "outputId": "fdba79e1-4d04-4415-cf28-fb3ea196427c"
      },
      "source": [
        "#fuel_data['fuel_type_code_pudl']\n",
        "fuel_data['fuel_cost_per_unit_burned']"
      ],
      "execution_count": 7,
      "outputs": [
        {
          "output_type": "execute_result",
          "data": {
            "text/plain": [
              "0        18.59\n",
              "1        18.58\n",
              "2        39.72\n",
              "3        47.21\n",
              "4         2.77\n",
              "         ...  \n",
              "29518     4.78\n",
              "29519     3.65\n",
              "29520     4.77\n",
              "29521     3.06\n",
              "29522     0.00\n",
              "Name: fuel_cost_per_unit_burned, Length: 29523, dtype: float64"
            ]
          },
          "metadata": {
            "tags": []
          },
          "execution_count": 7
        }
      ]
    },
    {
      "cell_type": "code",
      "metadata": {
        "id": "6TGkDeELqM8N",
        "colab_type": "code",
        "colab": {
          "base_uri": "https://localhost:8080/",
          "height": 153
        },
        "outputId": "0719d0e7-0849-4d99-cf29-f4fce8a4c10e"
      },
      "source": [
        "fuel_code = fuel_data.groupby('fuel_type_code_pudl')\n",
        "print (fuel_code['fuel_cost_per_unit_burned'].agg(np.mean))\n",
        "                              "
      ],
      "execution_count": 8,
      "outputs": [
        {
          "output_type": "stream",
          "text": [
            "fuel_type_code_pudl\n",
            "coal         67.421830\n",
            "gas          13.659397\n",
            "nuclear    4955.157002\n",
            "oil         168.877086\n",
            "other        18.253856\n",
            "waste        19.518122\n",
            "Name: fuel_cost_per_unit_burned, dtype: float64\n"
          ],
          "name": "stdout"
        }
      ]
    },
    {
      "cell_type": "code",
      "metadata": {
        "id": "GNR6Saj42UkR",
        "colab_type": "code",
        "colab": {
          "base_uri": "https://localhost:8080/",
          "height": 34
        },
        "outputId": "fb23e703-8388-483d-9c5b-fc1951f2b7a6"
      },
      "source": [
        "unit = fuel_data['fuel_mmbtu_per_unit']\n",
        "unit.head()\n",
        "print(unit.std(),unit.quantile(q=0.75))\n"
      ],
      "execution_count": 9,
      "outputs": [
        {
          "output_type": "stream",
          "text": [
            "10.600220307806886 17.006\n"
          ],
          "name": "stdout"
        }
      ]
    },
    {
      "cell_type": "code",
      "metadata": {
        "id": "SmOE8sldZ_Ir",
        "colab_type": "code",
        "colab": {}
      },
      "source": [
        ""
      ],
      "execution_count": null,
      "outputs": []
    },
    {
      "cell_type": "code",
      "metadata": {
        "id": "eGSIP4qz5-Gk",
        "colab_type": "code",
        "colab": {
          "base_uri": "https://localhost:8080/",
          "height": 34
        },
        "outputId": "a60a42ad-b3f2-4321-bd22-c599a8ab2dc3"
      },
      "source": [
        "qty_burned = fuel_data['fuel_qty_burned']\n",
        "print(qty_burned.skew(),qty_burned.kurt())\n"
      ],
      "execution_count": 10,
      "outputs": [
        {
          "output_type": "stream",
          "text": [
            "15.851495469109503 651.3694501337732\n"
          ],
          "name": "stdout"
        }
      ]
    },
    {
      "cell_type": "code",
      "metadata": {
        "id": "AFF7oUK16-f6",
        "colab_type": "code",
        "colab": {
          "base_uri": "https://localhost:8080/",
          "height": 238
        },
        "outputId": "ed3b9026-c161-4fdd-c3ce-2d3ee6a71545"
      },
      "source": [
        "\n",
        "check_null = fuel_data.isnull().sum()\n",
        "print(check_null)\n",
        "print((180/29523) *100)\n"
      ],
      "execution_count": 11,
      "outputs": [
        {
          "output_type": "stream",
          "text": [
            "record_id                         0\n",
            "utility_id_ferc1                  0\n",
            "report_year                       0\n",
            "plant_name_ferc1                  0\n",
            "fuel_type_code_pudl               0\n",
            "fuel_unit                       180\n",
            "fuel_qty_burned                   0\n",
            "fuel_mmbtu_per_unit               0\n",
            "fuel_cost_per_unit_burned         0\n",
            "fuel_cost_per_unit_delivered      0\n",
            "fuel_cost_per_mmbtu               0\n",
            "dtype: int64\n",
            "0.609694136774718\n"
          ],
          "name": "stdout"
        }
      ]
    },
    {
      "cell_type": "code",
      "metadata": {
        "id": "YbUbkEmUCMGc",
        "colab_type": "code",
        "colab": {
          "base_uri": "https://localhost:8080/",
          "height": 286
        },
        "outputId": "667cb449-347c-4eab-f124-80bf4979bc85"
      },
      "source": [
        "fuel_data.corr()"
      ],
      "execution_count": 12,
      "outputs": [
        {
          "output_type": "execute_result",
          "data": {
            "text/html": [
              "<div>\n",
              "<style scoped>\n",
              "    .dataframe tbody tr th:only-of-type {\n",
              "        vertical-align: middle;\n",
              "    }\n",
              "\n",
              "    .dataframe tbody tr th {\n",
              "        vertical-align: top;\n",
              "    }\n",
              "\n",
              "    .dataframe thead th {\n",
              "        text-align: right;\n",
              "    }\n",
              "</style>\n",
              "<table border=\"1\" class=\"dataframe\">\n",
              "  <thead>\n",
              "    <tr style=\"text-align: right;\">\n",
              "      <th></th>\n",
              "      <th>utility_id_ferc1</th>\n",
              "      <th>report_year</th>\n",
              "      <th>fuel_qty_burned</th>\n",
              "      <th>fuel_mmbtu_per_unit</th>\n",
              "      <th>fuel_cost_per_unit_burned</th>\n",
              "      <th>fuel_cost_per_unit_delivered</th>\n",
              "      <th>fuel_cost_per_mmbtu</th>\n",
              "    </tr>\n",
              "  </thead>\n",
              "  <tbody>\n",
              "    <tr>\n",
              "      <th>utility_id_ferc1</th>\n",
              "      <td>1.000000</td>\n",
              "      <td>0.093323</td>\n",
              "      <td>-0.057447</td>\n",
              "      <td>-0.066946</td>\n",
              "      <td>-0.037863</td>\n",
              "      <td>-0.016414</td>\n",
              "      <td>0.006122</td>\n",
              "    </tr>\n",
              "    <tr>\n",
              "      <th>report_year</th>\n",
              "      <td>0.093323</td>\n",
              "      <td>1.000000</td>\n",
              "      <td>0.012952</td>\n",
              "      <td>-0.110853</td>\n",
              "      <td>0.013599</td>\n",
              "      <td>-0.014043</td>\n",
              "      <td>0.010261</td>\n",
              "    </tr>\n",
              "    <tr>\n",
              "      <th>fuel_qty_burned</th>\n",
              "      <td>-0.057447</td>\n",
              "      <td>0.012952</td>\n",
              "      <td>1.000000</td>\n",
              "      <td>-0.080946</td>\n",
              "      <td>-0.018535</td>\n",
              "      <td>-0.003551</td>\n",
              "      <td>-0.001896</td>\n",
              "    </tr>\n",
              "    <tr>\n",
              "      <th>fuel_mmbtu_per_unit</th>\n",
              "      <td>-0.066946</td>\n",
              "      <td>-0.110853</td>\n",
              "      <td>-0.080946</td>\n",
              "      <td>1.000000</td>\n",
              "      <td>-0.010034</td>\n",
              "      <td>-0.009039</td>\n",
              "      <td>-0.005884</td>\n",
              "    </tr>\n",
              "    <tr>\n",
              "      <th>fuel_cost_per_unit_burned</th>\n",
              "      <td>-0.037863</td>\n",
              "      <td>0.013599</td>\n",
              "      <td>-0.018535</td>\n",
              "      <td>-0.010034</td>\n",
              "      <td>1.000000</td>\n",
              "      <td>0.011007</td>\n",
              "      <td>-0.000437</td>\n",
              "    </tr>\n",
              "    <tr>\n",
              "      <th>fuel_cost_per_unit_delivered</th>\n",
              "      <td>-0.016414</td>\n",
              "      <td>-0.014043</td>\n",
              "      <td>-0.003551</td>\n",
              "      <td>-0.009039</td>\n",
              "      <td>0.011007</td>\n",
              "      <td>1.000000</td>\n",
              "      <td>-0.000109</td>\n",
              "    </tr>\n",
              "    <tr>\n",
              "      <th>fuel_cost_per_mmbtu</th>\n",
              "      <td>0.006122</td>\n",
              "      <td>0.010261</td>\n",
              "      <td>-0.001896</td>\n",
              "      <td>-0.005884</td>\n",
              "      <td>-0.000437</td>\n",
              "      <td>-0.000109</td>\n",
              "      <td>1.000000</td>\n",
              "    </tr>\n",
              "  </tbody>\n",
              "</table>\n",
              "</div>"
            ],
            "text/plain": [
              "                              utility_id_ferc1  ...  fuel_cost_per_mmbtu\n",
              "utility_id_ferc1                      1.000000  ...             0.006122\n",
              "report_year                           0.093323  ...             0.010261\n",
              "fuel_qty_burned                      -0.057447  ...            -0.001896\n",
              "fuel_mmbtu_per_unit                  -0.066946  ...            -0.005884\n",
              "fuel_cost_per_unit_burned            -0.037863  ...            -0.000437\n",
              "fuel_cost_per_unit_delivered         -0.016414  ...            -0.000109\n",
              "fuel_cost_per_mmbtu                   0.006122  ...             1.000000\n",
              "\n",
              "[7 rows x 7 columns]"
            ]
          },
          "metadata": {
            "tags": []
          },
          "execution_count": 12
        }
      ]
    },
    {
      "cell_type": "code",
      "metadata": {
        "id": "-0yE8ECiuuML",
        "colab_type": "code",
        "colab": {
          "base_uri": "https://localhost:8080/",
          "height": 255
        },
        "outputId": "5b0db08d-5174-4e5b-82fc-c46ceb58549e"
      },
      "source": [
        "#fuel_code = fuel_data.groupby('fuel_type_code_pudl')\n",
        "#fuel_code.head()\n",
        "#fuel_data['report_year'].unique()\n",
        "\n",
        "\n",
        "data = fuel_data[['report_year','fuel_type_code_pudl','fuel_cost_per_unit_burned']]\n",
        "data.head()\n",
        "grouped = data.groupby(['report_year','fuel_type_code_pudl']).pct_change()\n",
        "pd.options.display.max_rows = 4000\n",
        "print(grouped)"
      ],
      "execution_count": 60,
      "outputs": [
        {
          "output_type": "display_data",
          "data": {
            "text/html": [
              "\n",
              "  <style>\n",
              "    pre {\n",
              "        white-space: pre-wrap;\n",
              "    }\n",
              "  </style>\n",
              "  "
            ],
            "text/plain": [
              "<IPython.core.display.HTML object>"
            ]
          },
          "metadata": {
            "tags": []
          }
        },
        {
          "output_type": "stream",
          "text": [
            "       fuel_cost_per_unit_burned\n",
            "0                            NaN\n",
            "1                      -0.000538\n",
            "2                       1.137783\n",
            "3                       0.188570\n",
            "4                            NaN\n",
            "...                          ...\n",
            "29518                  -0.426170\n",
            "29519                  -0.236402\n",
            "29520                   0.306849\n",
            "29521                  -0.776479\n",
            "29522                  -1.000000\n",
            "\n",
            "[29523 rows x 1 columns]\n"
          ],
          "name": "stdout"
        }
      ]
    },
    {
      "cell_type": "code",
      "metadata": {
        "id": "bPx-FHTYVxgD",
        "colab_type": "code",
        "colab": {
          "base_uri": "https://localhost:8080/",
          "height": 476
        },
        "outputId": "7683b148-ebc8-4bbc-d817-d333326093d4"
      },
      "source": [
        "data1 = fuel_data[['report_year','fuel_cost_per_unit_delivered']]\n",
        "data1.head()\n",
        "group1  = data1.groupby(['report_year']).agg({'fuel_cost_per_unit_delivered': 'mean'})\n",
        "print(group1)"
      ],
      "execution_count": 55,
      "outputs": [
        {
          "output_type": "display_data",
          "data": {
            "text/html": [
              "\n",
              "  <style>\n",
              "    pre {\n",
              "        white-space: pre-wrap;\n",
              "    }\n",
              "  </style>\n",
              "  "
            ],
            "text/plain": [
              "<IPython.core.display.HTML object>"
            ]
          },
          "metadata": {
            "tags": []
          }
        },
        {
          "output_type": "stream",
          "text": [
            "             fuel_cost_per_unit_delivered\n",
            "report_year                              \n",
            "1994                            63.636060\n",
            "1995                            32.735269\n",
            "1996                          9196.705948\n",
            "1997                         11140.197239\n",
            "1998                           287.154420\n",
            "1999                            25.551627\n",
            "2000                           985.362877\n",
            "2001                            60.050396\n",
            "2002                            47.594361\n",
            "2003                            55.663493\n",
            "2004                           139.524275\n",
            "2005                            41.438184\n",
            "2006                            38.657484\n",
            "2007                            43.325023\n",
            "2008                            58.588197\n",
            "2009                           652.694163\n",
            "2010                            91.862105\n",
            "2011                            59.774667\n",
            "2012                            60.994502\n",
            "2013                           172.307591\n",
            "2014                           192.737183\n",
            "2015                           326.535511\n",
            "2016                           103.901761\n",
            "2017                            46.196861\n",
            "2018                           499.269966\n"
          ],
          "name": "stdout"
        }
      ]
    }
  ]
}